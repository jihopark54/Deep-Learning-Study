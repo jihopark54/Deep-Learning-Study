{
 "cells": [
  {
   "cell_type": "code",
   "execution_count": 1,
   "metadata": {
    "collapsed": true
   },
   "outputs": [],
   "source": [
    "#import library\n",
    "import tensorflow as tf\n",
    "import numpy as np\n",
    "from tensorflow.examples.tutorials.mnist import input_data"
   ]
  },
  {
   "cell_type": "code",
   "execution_count": 2,
   "metadata": {},
   "outputs": [
    {
     "name": "stdout",
     "output_type": "stream",
     "text": [
      "Extracting dataset/MNIST/train-images-idx3-ubyte.gz\n",
      "Extracting dataset/MNIST/train-labels-idx1-ubyte.gz\n",
      "Extracting dataset/MNIST/t10k-images-idx3-ubyte.gz\n",
      "Extracting dataset/MNIST/t10k-labels-idx1-ubyte.gz\n"
     ]
    }
   ],
   "source": [
    "mnist = input_data.read_data_sets(\"dataset/MNIST/\", one_hot=True)"
   ]
  },
  {
   "cell_type": "code",
   "execution_count": 5,
   "metadata": {
    "collapsed": true
   },
   "outputs": [],
   "source": [
    "#define variabales\n",
    "X = tf.placeholder(\"float32\", [None, 784], name=\"input\")\n",
    "Y = tf.placeholder(\"float32\", [None, 10], name=\"target\")\n",
    "\n",
    "fw_in = tf.get_variable(\"fw_in\", shape=[784,784], dtype=\"float32\", initializer=tf.truncated_normal_initializer(0.0,stddev=0.01), trainable=True)\n",
    "fb_in = tf.get_variable(\"fb_in\", shape=[784], dtype=\"float32\", initializer=tf.constant_initializer(0.0), trainable=True)\n",
    "\n",
    "fw_out = tf.get_variable(\"fw_out\", shape=[784,10], dtype=\"float32\", initializer=tf.truncated_normal_initializer(0.0,stddev=0.01), trainable=True)\n",
    "fb_out = tf.get_variable(\"fb_out\", shape=[10], dtype=\"float32\", initializer=tf.constant_initializer(0.0), trainable=True)"
   ]
  },
  {
   "cell_type": "code",
   "execution_count": 6,
   "metadata": {
    "collapsed": true
   },
   "outputs": [],
   "source": [
    "layer_1 = tf.nn.relu(tf.matmul(X, fw_in) + fb_in)\n",
    "output = tf.matmul(layer_1, fw_out) + fb_out\n",
    "loss_func = tf.reduce_mean(tf.nn.softmax_cross_entropy_with_logits(labels=Y, logits=output))\n",
    "#cross_entropy = tf.reduce_mean(-tf.reduce_sum(y_ * tf.log(y), reduction_indices=[1]))\n",
    "optimizer = tf.train.AdamOptimizer(learning_rate=0.01).minimize(loss_func)"
   ]
  },
  {
   "cell_type": "code",
   "execution_count": 7,
   "metadata": {},
   "outputs": [
    {
     "name": "stdout",
     "output_type": "stream",
     "text": [
      "0.95 0.107531\n",
      "0.97 0.153673\n",
      "0.96 0.151267\n",
      "0.99 0.063896\n",
      "1.0 0.0339427\n",
      "1.0 0.0232674\n",
      "0.97 0.0663\n",
      "0.96 0.0889875\n",
      "1.0 0.0227767\n",
      "0.97 0.0830189\n"
     ]
    }
   ],
   "source": [
    "step = 0\n",
    "train_iters = 1000\n",
    "with tf.Session() as sess:\n",
    "    sess.run(tf.global_variables_initializer())\n",
    "    correct_pred = tf.equal(tf.argmax(output, 1), tf.argmax(Y, 1))\n",
    "    acc = tf.reduce_mean(tf.cast(correct_pred, tf.float32))\n",
    "    while step < train_iters:\n",
    "        batch_x, batch_y = mnist.train.next_batch(100)\n",
    "        feed_dict = {X:batch_x, Y:batch_y}\n",
    "\n",
    "        sess.run(optimizer, feed_dict=feed_dict)\n",
    "        step += 1\n",
    "        if step % 100 == 0:\n",
    "            racc = sess.run(acc, feed_dict=feed_dict)\n",
    "            rloss = sess.run(loss_func, feed_dict=feed_dict)\n",
    "            print(racc, rloss)"
   ]
  },
  {
   "cell_type": "code",
   "execution_count": 16,
   "metadata": {
    "collapsed": true
   },
   "outputs": [],
   "source": []
  },
  {
   "cell_type": "code",
   "execution_count": null,
   "metadata": {
    "collapsed": true
   },
   "outputs": [],
   "source": []
  }
 ],
 "metadata": {
  "kernelspec": {
   "display_name": "Python 3",
   "language": "python",
   "name": "python3"
  },
  "language_info": {
   "codemirror_mode": {
    "name": "ipython",
    "version": 3
   },
   "file_extension": ".py",
   "mimetype": "text/x-python",
   "name": "python",
   "nbconvert_exporter": "python",
   "pygments_lexer": "ipython3",
   "version": "3.5.3"
  }
 },
 "nbformat": 4,
 "nbformat_minor": 1
}
